{
 "cells": [
  {
   "cell_type": "markdown",
   "metadata": {},
   "source": [
    "# Write a Python program to convert kilometers to miles?"
   ]
  },
  {
   "cell_type": "code",
   "execution_count": 6,
   "metadata": {},
   "outputs": [
    {
     "name": "stdout",
     "output_type": "stream",
     "text": [
      "Enter the value in Km 100\n"
     ]
    },
    {
     "data": {
      "text/plain": [
       "62.15"
      ]
     },
     "execution_count": 6,
     "metadata": {},
     "output_type": "execute_result"
    }
   ],
   "source": [
    "def dist_conv():\n",
    "    a=float(input(\"Enter the value in Km \"))\n",
    "    b=round(a/1.609,3)\n",
    "    return b \n",
    "\n",
    "dist_conv()"
   ]
  },
  {
   "cell_type": "markdown",
   "metadata": {},
   "source": [
    "# Write a Python program to convert Celsius to Fahrenheit?"
   ]
  },
  {
   "cell_type": "code",
   "execution_count": 11,
   "metadata": {},
   "outputs": [
    {
     "name": "stdout",
     "output_type": "stream",
     "text": [
      "Enter the value in Celsius 40\n"
     ]
    },
    {
     "data": {
      "text/plain": [
       "104.0"
      ]
     },
     "execution_count": 11,
     "metadata": {},
     "output_type": "execute_result"
    }
   ],
   "source": [
    "def temp_conv():\n",
    "    c=float(input(\"Enter the value in Celsius \"))\n",
    "    f=round(((c*9/5)+32),3)\n",
    "    return f \n",
    "\n",
    "temp_conv()"
   ]
  },
  {
   "cell_type": "markdown",
   "metadata": {},
   "source": [
    "# Write a Python program to display calendar?"
   ]
  },
  {
   "cell_type": "code",
   "execution_count": 20,
   "metadata": {},
   "outputs": [
    {
     "name": "stdout",
     "output_type": "stream",
     "text": [
      "enter the year 2022\n",
      "enter the month 6\n",
      "     June 2022\n",
      "Mo Tu We Th Fr Sa Su\n",
      "       1  2  3  4  5\n",
      " 6  7  8  9 10 11 12\n",
      "13 14 15 16 17 18 19\n",
      "20 21 22 23 24 25 26\n",
      "27 28 29 30\n",
      "\n"
     ]
    }
   ],
   "source": [
    "def disp_cald():\n",
    "    import calendar\n",
    "    yy=int(input(\"enter the year \"))\n",
    "    mm=int(input(\"enter the month \"))\n",
    "    print(calendar.month(yy,mm))\n",
    "    \n",
    "disp_cald()"
   ]
  },
  {
   "cell_type": "markdown",
   "metadata": {},
   "source": [
    "# Write a Python program to solve quadratic equation?"
   ]
  },
  {
   "cell_type": "code",
   "execution_count": 31,
   "metadata": {},
   "outputs": [
    {
     "name": "stdout",
     "output_type": "stream",
     "text": [
      "Enter the number12\n",
      "Enter the number7\n",
      "Enter the number1\n",
      "The solutions are (-0.25+0j) and (-0.3333333333333333+0j)\n"
     ]
    }
   ],
   "source": [
    "def quad_sol():\n",
    "    import cmath\n",
    "    a=float(input(\"Enter the number\"))\n",
    "    b=float(input(\"Enter the number\"))\n",
    "    c=float(input(\"Enter the number\"))\n",
    "    d=(b**2)-4*a*c\n",
    "    sol1=(-b+cmath.sqrt(d))/(2*a)\n",
    "    sol2=(-b-cmath.sqrt(d))/(2*a)\n",
    "    print(\"The solutions are {} and {}\".format(sol1,sol2))\n",
    "    \n",
    "quad_sol()"
   ]
  },
  {
   "cell_type": "markdown",
   "metadata": {},
   "source": [
    "# Write a Python program to swap two variables without temp variable?"
   ]
  },
  {
   "cell_type": "code",
   "execution_count": 18,
   "metadata": {},
   "outputs": [
    {
     "name": "stdout",
     "output_type": "stream",
     "text": [
      "20\n",
      "10\n"
     ]
    }
   ],
   "source": [
    "a=10\n",
    "b=20\n",
    "a,b=b,a\n",
    "print(a)\n",
    "print(b)"
   ]
  }
 ],
 "metadata": {
  "kernelspec": {
   "display_name": "Python 3",
   "language": "python",
   "name": "python3"
  },
  "language_info": {
   "codemirror_mode": {
    "name": "ipython",
    "version": 3
   },
   "file_extension": ".py",
   "mimetype": "text/x-python",
   "name": "python",
   "nbconvert_exporter": "python",
   "pygments_lexer": "ipython3",
   "version": "3.8.5"
  }
 },
 "nbformat": 4,
 "nbformat_minor": 4
}
