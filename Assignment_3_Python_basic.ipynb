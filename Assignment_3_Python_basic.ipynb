{
 "cells": [
  {
   "cell_type": "markdown",
   "metadata": {},
   "source": [
    "# 1. Why are functions advantageous to have in your programs?"
   ]
  },
  {
   "cell_type": "code",
   "execution_count": 3,
   "metadata": {},
   "outputs": [],
   "source": [
    "# 1. Functions are used to divide the large problem into smaller group so that the code can be debugged faster and the code becomes readable.\n",
    "# 2. Functions reduces the rewriting of code again and again and increases the reusability.\n",
    "# 3. Many persons can work on the same program using different method while using same function.\n",
    "# 4. Functions can be called multiple times with different inputs.\n"
   ]
  },
  {
   "cell_type": "markdown",
   "metadata": {},
   "source": [
    "# 2. When does the code in a function run: when it's specified or when it's called?"
   ]
  },
  {
   "cell_type": "code",
   "execution_count": null,
   "metadata": {},
   "outputs": [],
   "source": [
    "#The code in a function runs when the function is called. The execution of the statements starts from the first statement and\n",
    "#inside a function if another function is called, then the all the code inside the second function are executed first in order and then it picks\n",
    "#up the statement where it left.\n",
    "#the final execution happened with the return statement. "
   ]
  },
  {
   "cell_type": "markdown",
   "metadata": {},
   "source": [
    "# 3. What statement creates a function?"
   ]
  },
  {
   "cell_type": "code",
   "execution_count": null,
   "metadata": {},
   "outputs": [],
   "source": [
    "#A function is created with the def keyword. The statements in the block of the function must be indented. \n",
    "#The 'def' keyword is followed by the function name with round brackets and a colon."
   ]
  },
  {
   "cell_type": "markdown",
   "metadata": {},
   "source": [
    "# 4. What is the difference between a function and a function call?"
   ]
  },
  {
   "cell_type": "code",
   "execution_count": null,
   "metadata": {},
   "outputs": [],
   "source": [
    "#A function is just set of instructions ready to execute as defined. That is why the function is defined first.\n",
    "#When we call a function the defined code starts executing in order and we get the result as per our input."
   ]
  },
  {
   "cell_type": "markdown",
   "metadata": {},
   "source": [
    "# 5. How many global scopes are there in a Python program? How many local scopes?"
   ]
  },
  {
   "cell_type": "code",
   "execution_count": null,
   "metadata": {},
   "outputs": [],
   "source": [
    "#There are two types of global scopes in the Python program. The Global scope(module scope) and Built in scope.\n",
    "#The global scopes are available for anywhere inside the code.\n",
    "#There are also two types of local scope. Local scope and Enclosing scope.\n",
    "#Local scope variable are only available inside the function where in enclosing scope variable are available for nested function\n",
    "#call."
   ]
  },
  {
   "cell_type": "markdown",
   "metadata": {},
   "source": [
    "# 6. What happens to variables in a local scope when the function call returns?"
   ]
  },
  {
   "cell_type": "code",
   "execution_count": null,
   "metadata": {},
   "outputs": [],
   "source": [
    "#When a function call returns, the local variables are deallocated and free up the memory space.\n",
    "#The same function can be used with different local variable again and for this free up of space is important."
   ]
  },
  {
   "cell_type": "markdown",
   "metadata": {},
   "source": [
    "# 7. What is the concept of a return value? Is it possible to have a return value in an expression?"
   ]
  },
  {
   "cell_type": "code",
   "execution_count": null,
   "metadata": {},
   "outputs": [],
   "source": [
    "#When a function is called is should return something.A return is a value that a function returns to the calling script,\n",
    "#when a function completes its task. \n",
    "#Yes,a return value can be in a expression.A return value can be any one of the four variable types: handle, integer, object,\n",
    "#or string.\n"
   ]
  },
  {
   "cell_type": "markdown",
   "metadata": {},
   "source": [
    "# 8. If a function does not have a return statement, what is the return value of a call to that function?"
   ]
  },
  {
   "cell_type": "code",
   "execution_count": null,
   "metadata": {},
   "outputs": [],
   "source": [
    "# Without return statement inside a function, it would return 'None' value."
   ]
  },
  {
   "cell_type": "markdown",
   "metadata": {},
   "source": [
    "# 9. How do you make a function variable refer to the global variable?"
   ]
  },
  {
   "cell_type": "code",
   "execution_count": 6,
   "metadata": {},
   "outputs": [
    {
     "name": "stdout",
     "output_type": "stream",
     "text": [
      "50\n"
     ]
    }
   ],
   "source": [
    "#If we use a variable inside a function and then want to use it inside a another function to work it as a global variable,\n",
    "#then we have to use \"global\" keyword inside the first function before the variable name.If it is declared as globalthen it\n",
    "#can be used as global variable.\n",
    "#In the following codes for the first example the second function took the value as declared outside of the function\n",
    "#In the second example using \"global\" keyword we could use the variable inside second function.\n",
    "\n",
    "globvar=50\n",
    "def func1():\n",
    "    globvar=10\n",
    "    \n",
    "def func2():\n",
    "    print(globvar)\n",
    "    \n",
    "func1()\n",
    "func2()"
   ]
  },
  {
   "cell_type": "code",
   "execution_count": 7,
   "metadata": {},
   "outputs": [
    {
     "name": "stdout",
     "output_type": "stream",
     "text": [
      "10\n"
     ]
    }
   ],
   "source": [
    "globvar=50\n",
    "def func1():\n",
    "    global globvar\n",
    "    globvar=10\n",
    "    \n",
    "def func2():\n",
    "    print(globvar)\n",
    "    \n",
    "func1()\n",
    "func2()"
   ]
  },
  {
   "cell_type": "markdown",
   "metadata": {},
   "source": [
    "# 10. What is the data type of None?"
   ]
  },
  {
   "cell_type": "code",
   "execution_count": null,
   "metadata": {},
   "outputs": [],
   "source": [
    "# \"None\" type is a special type in Python where it indicates that the variable does not contain anything as it's value and it\n",
    "#can be override according to the need.Also if a function does not contain return statement,it returns \"None\" type by default."
   ]
  },
  {
   "cell_type": "markdown",
   "metadata": {},
   "source": [
    "# 11. What does the sentence import areallyourpetsnamederic do?"
   ]
  },
  {
   "cell_type": "code",
   "execution_count": null,
   "metadata": {},
   "outputs": [],
   "source": [
    "# That import statement imports a module named areallyourpetsnamederic."
   ]
  },
  {
   "cell_type": "markdown",
   "metadata": {},
   "source": [
    "# 12. If you had a bacon() feature in a spam module, what would you call it after importing spam?"
   ]
  },
  {
   "cell_type": "code",
   "execution_count": null,
   "metadata": {},
   "outputs": [],
   "source": [
    "# This function can be called with spam. bacon()."
   ]
  },
  {
   "cell_type": "markdown",
   "metadata": {},
   "source": [
    "# 13. What can you do to save a programme from crashing if it encounters an error?"
   ]
  },
  {
   "cell_type": "code",
   "execution_count": null,
   "metadata": {},
   "outputs": [],
   "source": [
    "# Exception handling is very important in Python for running successful codes. We can use \"Try and except\" block where \"try\" \n",
    "# can be used to test the code and \"except\" block to logg the error.In this way the program does not get crashed while running\n",
    "# and completes the total execution of code.\n"
   ]
  },
  {
   "cell_type": "markdown",
   "metadata": {},
   "source": [
    "# 14. What is the purpose of the try clause? What is the purpose of the except clause?"
   ]
  },
  {
   "cell_type": "code",
   "execution_count": null,
   "metadata": {},
   "outputs": [],
   "source": [
    "# The \"try\" clause is to test the code inside the block and \"except\" block is to catch the exception. If the code runs \n",
    "# sucessfully inside \"try\" block then \"except\" block does not run but if there is any exception or error then \"except\" block\n",
    "# runs and log the error."
   ]
  }
 ],
 "metadata": {
  "kernelspec": {
   "display_name": "Python 3",
   "language": "python",
   "name": "python3"
  },
  "language_info": {
   "codemirror_mode": {
    "name": "ipython",
    "version": 3
   },
   "file_extension": ".py",
   "mimetype": "text/x-python",
   "name": "python",
   "nbconvert_exporter": "python",
   "pygments_lexer": "ipython3",
   "version": "3.8.5"
  }
 },
 "nbformat": 4,
 "nbformat_minor": 4
}
