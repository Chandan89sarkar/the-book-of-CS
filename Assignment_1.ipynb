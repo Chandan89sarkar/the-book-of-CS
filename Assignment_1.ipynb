{
 "cells": [
  {
   "cell_type": "markdown",
   "metadata": {},
   "source": [
    "1. In the below elements which of them are values or an expression? eg:- values can be integer or string and expressions will be mathematical operators."
   ]
  },
  {
   "cell_type": "markdown",
   "metadata": {},
   "source": [
    "Ans:    * -->        expression ||\n",
    "       'hello'-->    string     ||\n",
    "        -87.8 -->    values     ||\n",
    "        -     -->    expression ||    \n",
    "        /     -->    expression ||\n",
    "        +\t  -->    expression ||\n",
    "        6     -->    values\n",
    "\n"
   ]
  },
  {
   "cell_type": "markdown",
   "metadata": {},
   "source": [
    "2. What is the difference between string and variable?\n",
    "\n",
    "Ans:\n",
    "A string is a type of value where the variable is used to store any value which could be an integer, string, float, etc. \n"
   ]
  },
  {
   "cell_type": "markdown",
   "metadata": {},
   "source": [
    "3. Describe three different data types.\n",
    "\n",
    "Ans:\n",
    "Three different data types are Text type, Numeric type, and Boolean type.\n",
    "Text type: this type of data signifies something in text and normal mathematical operation is not possible with this type.\n",
    "Numeric Type: This type of data mainly consist of integer, float, or complex number. Normal mathematical expressions or operators can be used to compute.\n",
    "Boolean type: This type of data always return something in True or False. If any logic is used in the program then this type of data returns the value of the logic in the form of True and False which also can be used as 1 and 0 respectively.\n"
   ]
  },
  {
   "cell_type": "markdown",
   "metadata": {},
   "source": [
    "4. What is an expression made up of? What do all expressions do?\n",
    "\n",
    "Ans: \n",
    "An expression is made up of operands and operators.\n",
    "The use of the expression is to get a single value or some other value after the interpretation and it is a combination of different data types and mathematical operators.\n",
    "It can return a logical value, numeric value, or complex value depending on the expression.\n"
   ]
  },
  {
   "cell_type": "markdown",
   "metadata": {},
   "source": [
    "5. This assignment statements, like spam = 10. What is the difference between an expression and a statement?\n",
    "\n",
    "Ans:\n",
    "An expression always evaluates to a value while a statement may or may not. Like an expression is also a statement but assigning a value or print command is a statement. The statement does what it has been told to do. \n"
   ]
  },
  {
   "cell_type": "markdown",
   "metadata": {},
   "source": [
    "6. After running the following code, what does the variable bacon contain?\n",
    "bacon = 22\n",
    "bacon + 1\n",
    "\n",
    "Ans:\n",
    "Bacon contains the value 22\n"
   ]
  },
  {
   "cell_type": "markdown",
   "metadata": {},
   "source": [
    "7. What should the values of the following two terms be?\n",
    "'spam' + 'spamspam'\n",
    "'spam' * 3\n",
    "\n",
    "Ans:\n",
    "The values would be the same – spamspamspam\n"
   ]
  },
  {
   "cell_type": "markdown",
   "metadata": {},
   "source": [
    "8. Why is eggs a valid variable name while 100 is invalid?\n",
    "\n",
    "Ans:\n",
    "Because Python language does not accept integer values as variable names. A variable name must start with an underscore or a letter. That is why eggs is valid but not 100.\n"
   ]
  },
  {
   "cell_type": "markdown",
   "metadata": {},
   "source": [
    "9. What three functions can be used to get the integer, floating-point number, or string version of a value?\n",
    "\n",
    "Ans:\n",
    "Int(),   float(),    str()\n"
   ]
  },
  {
   "cell_type": "markdown",
   "metadata": {},
   "source": [
    "10. Why does this expression cause an error? How can you fix it?\n",
    "'I have eaten ' + 99 + ' burritos.'\n",
    "\n",
    "Ans:\n",
    "The concatenation of str and int object is not possible in python.\n",
    "'I have eaten ' + “99” + ' burritos.'  will give the right answer.\n"
   ]
  },
  {
   "cell_type": "code",
   "execution_count": null,
   "metadata": {},
   "outputs": [],
   "source": []
  },
  {
   "cell_type": "code",
   "execution_count": null,
   "metadata": {},
   "outputs": [],
   "source": []
  }
 ],
 "metadata": {
  "kernelspec": {
   "display_name": "Python 3",
   "language": "python",
   "name": "python3"
  },
  "language_info": {
   "codemirror_mode": {
    "name": "ipython",
    "version": 3
   },
   "file_extension": ".py",
   "mimetype": "text/x-python",
   "name": "python",
   "nbconvert_exporter": "python",
   "pygments_lexer": "ipython3",
   "version": "3.8.5"
  }
 },
 "nbformat": 4,
 "nbformat_minor": 4
}
